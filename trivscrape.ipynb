In [ ]:
import pandas as pd
from selenium import webdriver
from selenium.webdriver.support.ui import Select
from time import sleep
import numpy as np
from selenium.webdriver.common.keys import Keys

places = ["Mumbai", "Pune", "Bengaluru", "Goa"]  

# YYYY-MM-DD - Please EDIT this based on the dates you wish to searh for
check_in_date = "2020-03-14"
check_out_date = "2020-03-15"

df = pd.DataFrame()

place = []
hotel_name = []
overall_review = []
n_reviews = []
location_review = []
rooms_review = []
service_review = []
cleanliness_review = []
value_for_money_review = []
comfort_review = []
facilities_review = []
building_review = []
breakfast_review = []
food_review = []
lowest_price = []
recommended_price = []

for c in places:
    driver = webdriver.Chrome(r'chromedriver.exe')
    url = 'https://www.trivago.in/?sSoftRedirectSource=US&sSoftRedirectSourceLanguage=en&sSoftRedirectTid=kYKIqsvjgrMA1dwTB5UwZntsc_&bIsNewRedirectHandling=1'
    driver.get(url)
    sleep(2)
    search_box = driver.find_element_by_xpath('//*[@id="querytext"]')
    search_box.send_keys(c)
    sleep(2)
    search_box.send_keys("\n")
    sleep(3)
    submit_search = driver.find_element_by_xpath('//*[@id="js-fullscreen-hero"]/div[1]/form/button[2]')
    submit_search.click()
    sleep(5)
    
    # To adjust check and check out dates by manipulating the url
    curr_url = driver.current_url
    date = re.compile('[0-9]{4}-[0-9]{2}-[0-9]{2}')
    dates = date.findall(curr_url)
    print(dates)
    curr_url = curr_url.replace(dates[0], check_in_date)
    curr_url = curr_url.replace(dates[1], check_out_date)
    print(curr_url)
    driver.get(curr_url)
    
    # Scrolling to wait for entire page to load
    for i in range(20):
        driver.find_element_by_tag_name('body').send_keys(Keys.PAGE_DOWN)
    sleep(1)
    for i in range(20):
        driver.find_element_by_tag_name('body').send_keys(Keys.PAGE_UP)

    # Looping through number of pages - ideal keep 1-6 for trivago
    for page_no in range(1, 6):
        count = 0
        sleep(4)
        for i in driver.find_elements_by_xpath('/html/body/div[4]/main/div[1]/div/div[4]/div/div/div[3]/div[1]/section/ol/li/article/div[1]/div[2]/div/div[1]/h3/span'):

            # Place
            place.append(c)

            # Hotel name
            name = i.text
            hotel_name.append(name)
            print(name)
            count += 1

            # click for review tab
            sleep(1)
            try:
                driver.find_element_by_xpath('/html/body/div[4]/main/div[1]/div/div[4]/div/div/div[3]/div[1]/section/ol/li[' + str(count) + ']/article/div[1]/div[2]/div/button').click()
                sleep(1)
            except:
                count += 1
                driver.find_element_by_xpath('/html/body/div[4]/main/div[1]/div/div[4]/div/div/div[3]/div[1]/section/ol/li[' + str(count) + ']/article/div[1]/div[2]/div/button').click()
                sleep(1)

                
            # Get prices after review tab click only, since count adjusting code written above
            # Get lowest price
            lowest = driver.find_element_by_xpath('/html/body/div[4]/main/div[1]/div/div[4]/div/div/div[3]/div[1]/section/ol/li[' + str(count) + ']/article/div[1]/div[2]/section/div[1]/article/button/span/span[1]').text
            #print(lowest)
            lowest_price.append(lowest)       

            # Get recommended price
            recommended = driver.find_element_by_xpath('/html/body/div[4]/main/div[1]/div/div[4]/div/div/div[3]/div[1]/section/ol/li[' + str(count) + ']/article/div[1]/div[2]/section/div[2]/article/div/div/p/strong').text
            #print(recommended)
            recommended_price.append(recommended)

            # Fetching overall review and no of reviews from inside the review tab clicked above
            try:
                # Get overall Review
                review = driver.find_element_by_xpath('/html/body/div[4]/main/div[1]/div/div[4]/div/div/div[3]/div[1]/section/ol/li[' + str(count) + ']/article/div[2]/div/div[2]/div/div/article[1]/div/div/div/div[1]/span/span').text
                #print(review)
                overall_review.append(review)

                # No of reviews
                n_review = driver.find_element_by_xpath('/html/body/div[4]/main/div[1]/div/div[4]/div/div/div[3]/div[1]/section/ol/li[' + str(count) + ']/article/div[2]/div/div[2]/div/div/article[1]/div/div/div/div[1]/div/a/b[2]').text
                #print(n_review)
                n_reviews.append(n_review)
                
            except:
                overall_review.append(np.nan)
                n_reviews.append(np.nan)
                print("No overall reviews/no. of reviews")
                

            # click for Show More in Review tab above
            try:
                trial = '/html/body/div[4]/main/div[1]/div/div[4]/div/div/div[3]/div[1]/section/ol/li[' + str(count) + ']/article/div[2]/div/div[2]/div/div/article[1]/div/div/div/div[2]/button'
                trial2 = driver.find_element_by_xpath(trial).click()

                # get location review
                location = driver.find_element_by_xpath('/html/body/div[4]/main/div[1]/div/div[4]/div/div/div[3]/div[1]/section/ol/li[' + str(count) + ']/article/div[2]/div/div[2]/div/div/article[1]/div/div/div/div[2]/div/div/div[1]/span[3]/span[2]').text
                #print(location)
                location_review.append(location)

                rooms = driver.find_element_by_xpath('/html/body/div[4]/main/div[1]/div/div[4]/div/div/div[3]/div[1]/section/ol/li[' + str(count) + ']/article/div[2]/div/div[2]/div/div/article[1]/div/div/div/div[2]/div/div/div[2]/span[3]/span[2]').text
                #print(rooms)
                rooms_review.append(rooms)

                service = driver.find_element_by_xpath('/html/body/div[4]/main/div[1]/div/div[4]/div/div/div[3]/div[1]/section/ol/li[' + str(count) + ']/article/div[2]/div/div[2]/div/div/article[1]/div/div/div/div[2]/div/div/div[3]/span[3]/span[2]').text
                #print(service)
                service_review.append(service)

                cleanliness = driver.find_element_by_xpath('/html/body/div[4]/main/div[1]/div/div[4]/div/div/div[3]/div[1]/section/ol/li[' + str(count) + ']/article/div[2]/div/div[2]/div/div/article[1]/div/div/div/div[2]/div/div/div[4]/span[3]/span[2]').text
                #print(cleanliness)
                cleanliness_review.append(cleanliness)

                value_for_money = driver.find_element_by_xpath('/html/body/div[4]/main/div[1]/div/div[4]/div/div/div[3]/div[1]/section/ol/li[' + str(count) + ']/article/div[2]/div/div[2]/div/div/article[1]/div/div/div/div[2]/div/div/div[5]/span[3]/span[2]').text
                #print(value_for_money)
                value_for_money_review.append(value_for_money)

                comfort = driver.find_element_by_xpath('/html/body/div[4]/main/div[1]/div/div[4]/div/div/div[3]/div[1]/section/ol/li[' + str(count) + ']/article/div[2]/div/div[2]/div/div/article[1]/div/div/div/div[2]/div/div/div[6]/span[3]/span[2]').text
                #print(comfort)
                comfort_review.append(comfort)

                facilities = driver.find_element_by_xpath('/html/body/div[4]/main/div[1]/div/div[4]/div/div/div[3]/div[1]/section/ol/li[' + str(count) + ']/article/div[2]/div/div[2]/div/div/article[1]/div/div/div/div[2]/div/div/div[7]/span[3]/span[2]').text
                #print(facilities)
                facilities_review.append(facilities)

                building = driver.find_element_by_xpath('/html/body/div[4]/main/div[1]/div/div[4]/div/div/div[3]/div[1]/section/ol/li[' + str(count) + ']/article/div[2]/div/div[2]/div/div/article[1]/div/div/div/div[2]/div/div/div[8]/span[3]/span[2]').text
                #print(building)
                building_review.append(building)

                breakfast = driver.find_element_by_xpath('/html/body/div[4]/main/div[1]/div/div[4]/div/div/div[3]/div[1]/section/ol/li[' + str(count) + ']/article/div[2]/div/div[2]/div/div/article[1]/div/div/div/div[2]/div/div/div[9]/span[3]/span[2]').text
                #print(breakfast)
                breakfast_review.append(breakfast)

                food = driver.find_element_by_xpath('/html/body/div[4]/main/div[1]/div/div[4]/div/div/div[3]/div[1]/section/ol/li[' + str(count) + ']/article/div[2]/div/div[2]/div/div/article[1]/div/div/div/div[2]/div/div/div[10]/span[3]/span[2]').text
                #print(food)
                food_review.append(food)

            except:
                print("Some reviews missing for", name)
                location_review.append(np.nan)
                rooms_review.append(np.nan)
                service_review.append(np.nan)
                cleanliness_review.append(np.nan)
                value_for_money_review.append(np.nan)
                comfort_review.append(np.nan)
                facilities_review.append(np.nan)
                building_review.append(np.nan)
                breakfast_review.append(np.nan)
                food_review.append(np.nan)

            sleep(1)
            print(count, "\n")
            #if count == 1:
                #break

        try:
            sleep(5)
            
            # to change the page numbers by manipulating the url
            curr_url_1 = driver.current_url
            offset = re.compile('offset=[0-9]')
            offsets = offset.findall(curr_url_1)
            print(offsets)
            curr_url_1 = curr_url_1.replace(offsets[0], "offset="+str(page_no))
            print(curr_url_1)
            
            driver.get(curr_url_1)
        except:
            print("Pages over")
            sleep(3)
    driver.quit()

print(place, hotel_name, lowest_price, recommended_price, overall_review, n_reviews, location_review, rooms_review, service_review, cleanliness_review, value_for_money_review, comfort_review, facilities_review, building_review, breakfast_review, food_review)
In [ ]:
df['place'] = pd.Series(place)
df['hotel_name'] = pd.Series(hotel_name)
df['overall_review'] = pd.Series(overall_review)
df['n_reviews'] = pd.Series(n_reviews)
df['location_review'] = pd.Series(location_review)
df['rooms_review'] = pd.Series(rooms_review)
df['service_review'] = pd.Series(service_review)
df['cleanliness_review'] = pd.Series(cleanliness_review)
df['value_for_money_review'] = pd.Series(value_for_money_review)
df['comfort_review'] = pd.Series(comfort_review)
df['facilities_review'] = pd.Series(facilities_review)
df['building_review'] = pd.Series(building_review)
df['breakfast_review'] = pd.Series(breakfast_review)
df['food_review'] = pd.Series(food_review)
df['lowest_price'] = pd.Series(lowest_price)
df['recommended_price'] = pd.Series(recommended_price)

df.to_csv('hotel_pricing_trivago_Bengaluru.csv', na_rep=np.nan)
